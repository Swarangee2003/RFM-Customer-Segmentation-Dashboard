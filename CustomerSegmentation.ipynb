{
 "cells": [
  {
   "cell_type": "code",
   "execution_count": 4,
   "id": "33b5e8fa-838a-4e78-a4f1-851c9fdbff1a",
   "metadata": {},
   "outputs": [
    {
     "name": "stdout",
     "output_type": "stream",
     "text": [
      "  ï»¿InvoiceNo StockCode                          Description  Quantity  \\\n",
      "0       536365    85123A   WHITE HANGING HEART T-LIGHT HOLDER         6   \n",
      "1       536365     71053                  WHITE METAL LANTERN         6   \n",
      "2       536365    84406B       CREAM CUPID HEARTS COAT HANGER         8   \n",
      "3       536365    84029G  KNITTED UNION FLAG HOT WATER BOTTLE         6   \n",
      "4       536365    84029E       RED WOOLLY HOTTIE WHITE HEART.         6   \n",
      "\n",
      "        InvoiceDate  UnitPrice  CustomerID         Country  \n",
      "0  01-12-2010 08:26       2.55     17850.0  United Kingdom  \n",
      "1  01-12-2010 08:26       3.39     17850.0  United Kingdom  \n",
      "2  01-12-2010 08:26       2.75     17850.0  United Kingdom  \n",
      "3  01-12-2010 08:26       3.39     17850.0  United Kingdom  \n",
      "4  01-12-2010 08:26       3.39     17850.0  United Kingdom  \n"
     ]
    }
   ],
   "source": [
    "import pandas as pd\n",
    "df = pd.read_csv(\"Online Retail.csv\", encoding='ISO-8859-1')\n",
    "print(df.head())"
   ]
  },
  {
   "cell_type": "code",
   "execution_count": 5,
   "id": "1bcfd015-9cde-4cab-80f0-377f8a921c9f",
   "metadata": {},
   "outputs": [],
   "source": [
    "df = df[df['CustomerID'].notnull()] #removing null values from customerid \n"
   ]
  },
  {
   "cell_type": "code",
   "execution_count": 6,
   "id": "8fbf440b-dba7-4bf6-9f21-45acc30d5ebf",
   "metadata": {},
   "outputs": [
    {
     "name": "stdout",
     "output_type": "stream",
     "text": [
      "       InvoiceNo StockCode                          Description  Quantity  \\\n",
      "0         536365    85123A   WHITE HANGING HEART T-LIGHT HOLDER         6   \n",
      "1         536365     71053                  WHITE METAL LANTERN         6   \n",
      "2         536365    84406B       CREAM CUPID HEARTS COAT HANGER         8   \n",
      "3         536365    84029G  KNITTED UNION FLAG HOT WATER BOTTLE         6   \n",
      "4         536365    84029E       RED WOOLLY HOTTIE WHITE HEART.         6   \n",
      "...          ...       ...                                  ...       ...   \n",
      "541904    581587     22613          PACK OF 20 SPACEBOY NAPKINS        12   \n",
      "541905    581587     22899         CHILDREN'S APRON DOLLY GIRL          6   \n",
      "541906    581587     23254        CHILDRENS CUTLERY DOLLY GIRL          4   \n",
      "541907    581587     23255      CHILDRENS CUTLERY CIRCUS PARADE         4   \n",
      "541908    581587     22138        BAKING SET 9 PIECE RETROSPOT          3   \n",
      "\n",
      "             InvoiceDate  UnitPrice  CustomerID         Country  \n",
      "0       01-12-2010 08:26       2.55     17850.0  United Kingdom  \n",
      "1       01-12-2010 08:26       3.39     17850.0  United Kingdom  \n",
      "2       01-12-2010 08:26       2.75     17850.0  United Kingdom  \n",
      "3       01-12-2010 08:26       3.39     17850.0  United Kingdom  \n",
      "4       01-12-2010 08:26       3.39     17850.0  United Kingdom  \n",
      "...                  ...        ...         ...             ...  \n",
      "541904  09-12-2011 12:50       0.85     12680.0          France  \n",
      "541905  09-12-2011 12:50       2.10     12680.0          France  \n",
      "541906  09-12-2011 12:50       4.15     12680.0          France  \n",
      "541907  09-12-2011 12:50       4.15     12680.0          France  \n",
      "541908  09-12-2011 12:50       4.95     12680.0          France  \n",
      "\n",
      "[397884 rows x 8 columns]\n"
     ]
    }
   ],
   "source": [
    "df.rename(columns={df.columns[0]: 'InvoiceNo'}, inplace=True)\n",
    "df = df.loc[~df['InvoiceNo'].str.startswith('C', na=False)] #removing cancelled orders\n",
    "df= df[(df['Quantity']>0) & (df['UnitPrice']>0)] #removing zero and negative values\n",
    "print(df)"
   ]
  },
  {
   "cell_type": "code",
   "execution_count": 7,
   "id": "9350ffc0-562e-4e30-978b-ff27ce57b2a3",
   "metadata": {},
   "outputs": [],
   "source": [
    "df['InvoiceDate'] = pd.to_datetime(df['InvoiceDate'], dayfirst=True)  #  Convert InvoiceDate to datetime\n"
   ]
  },
  {
   "cell_type": "code",
   "execution_count": 10,
   "id": "b4113f54-5035-4098-84ac-bcb833690a39",
   "metadata": {},
   "outputs": [],
   "source": [
    "# recency\n",
    "day=df['InvoiceDate'].max()\n",
    "# Group and calculate recency\n",
    "recency = df.groupby('CustomerID').agg({\n",
    "    'InvoiceDate': lambda x: (day - x.max()).days\n",
    "}).reset_index()\n",
    "\n",
    "# Rename the column properly\n",
    "recency.columns = ['CustomerID', 'Recency']\n"
   ]
  },
  {
   "cell_type": "code",
   "execution_count": 12,
   "id": "6e5314ab-01eb-4976-9a55-73b292b099ed",
   "metadata": {},
   "outputs": [],
   "source": [
    "#frequency\n",
    "freq = df.groupby('CustomerID')[['InvoiceNo']].count().reset_index()\n",
    "freq.columns = ['CustomerID', 'Frequency']\n"
   ]
  },
  {
   "cell_type": "code",
   "execution_count": 15,
   "id": "ab7d19a1-571c-4e70-9683-f7d7d8c6abf0",
   "metadata": {},
   "outputs": [],
   "source": [
    "#Monetory value \n",
    "#finding total sale\n",
    "df['sales']=df['UnitPrice']*df['Quantity']\n",
    "money=df.groupby(['CustomerID'])[['sales']].sum().reset_index()\n",
    "money.columns = ['CustomerID', 'Monetary']"
   ]
  },
  {
   "cell_type": "code",
   "execution_count": 16,
   "id": "4027d74c-c5b6-48ce-8d78-2105f66dcdc3",
   "metadata": {},
   "outputs": [],
   "source": [
    "RFM = recency.merge(freq, on='CustomerID').merge(money, on='CustomerID')"
   ]
  },
  {
   "cell_type": "code",
   "execution_count": 17,
   "id": "87bb4b23-56bd-4e65-a261-f8b1eaae1b30",
   "metadata": {},
   "outputs": [],
   "source": [
    "#NORMALISING THE RFM VALUES \n",
    "from sklearn.preprocessing import StandardScaler\n",
    "scaler=StandardScaler()\n",
    "scaled=scaler.fit_transform(RFM)"
   ]
  },
  {
   "cell_type": "code",
   "execution_count": 18,
   "id": "1034013b-a202-4d24-a605-bd9ad5048b90",
   "metadata": {},
   "outputs": [],
   "source": [
    "from sklearn.cluster import KMeans\n",
    "kmeans = KMeans(n_clusters=4, random_state=42)\n",
    "RFM['Cluster'] = kmeans.fit_predict(scaled)\n"
   ]
  },
  {
   "cell_type": "code",
   "execution_count": 26,
   "id": "3ec1d174-e5ce-47a3-9474-a7b183875496",
   "metadata": {},
   "outputs": [
    {
     "data": {
      "text/html": [
       "<div>\n",
       "<style scoped>\n",
       "    .dataframe tbody tr th:only-of-type {\n",
       "        vertical-align: middle;\n",
       "    }\n",
       "\n",
       "    .dataframe tbody tr th {\n",
       "        vertical-align: top;\n",
       "    }\n",
       "\n",
       "    .dataframe thead th {\n",
       "        text-align: right;\n",
       "    }\n",
       "</style>\n",
       "<table border=\"1\" class=\"dataframe\">\n",
       "  <thead>\n",
       "    <tr style=\"text-align: right;\">\n",
       "      <th></th>\n",
       "      <th>Num_Customers</th>\n",
       "      <th>Recency</th>\n",
       "      <th>Frequency</th>\n",
       "      <th>Monetary</th>\n",
       "    </tr>\n",
       "    <tr>\n",
       "      <th>Cluster</th>\n",
       "      <th></th>\n",
       "      <th></th>\n",
       "      <th></th>\n",
       "      <th></th>\n",
       "    </tr>\n",
       "  </thead>\n",
       "  <tbody>\n",
       "    <tr>\n",
       "      <th>0</th>\n",
       "      <td>1684</td>\n",
       "      <td>44.252</td>\n",
       "      <td>99.383</td>\n",
       "      <td>2108.656</td>\n",
       "    </tr>\n",
       "    <tr>\n",
       "      <th>1</th>\n",
       "      <td>952</td>\n",
       "      <td>257.517</td>\n",
       "      <td>26.832</td>\n",
       "      <td>634.822</td>\n",
       "    </tr>\n",
       "    <tr>\n",
       "      <th>2</th>\n",
       "      <td>15</td>\n",
       "      <td>3.667</td>\n",
       "      <td>2512.400</td>\n",
       "      <td>113548.132</td>\n",
       "    </tr>\n",
       "    <tr>\n",
       "      <th>3</th>\n",
       "      <td>1687</td>\n",
       "      <td>45.853</td>\n",
       "      <td>99.166</td>\n",
       "      <td>1809.637</td>\n",
       "    </tr>\n",
       "  </tbody>\n",
       "</table>\n",
       "</div>"
      ],
      "text/plain": [
       "         Num_Customers  Recency  Frequency    Monetary\n",
       "Cluster                                               \n",
       "0                 1684   44.252     99.383    2108.656\n",
       "1                  952  257.517     26.832     634.822\n",
       "2                   15    3.667   2512.400  113548.132\n",
       "3                 1687   45.853     99.166    1809.637"
      ]
     },
     "execution_count": 26,
     "metadata": {},
     "output_type": "execute_result"
    }
   ],
   "source": [
    "# View customer clusters\n",
    "\n",
    "RFM.groupby('Cluster').agg({\n",
    "    'CustomerID': 'count',        # Number of customers\n",
    "    'Recency': 'mean',\n",
    "    'Frequency': 'mean',\n",
    "    'Monetary': 'mean'\n",
    "}).rename(columns={'CustomerID': 'Num_Customers'}).round(3)\n",
    "\n",
    "\n"
   ]
  },
  {
   "cell_type": "code",
   "execution_count": 27,
   "id": "1ddf435b-fe68-4ab7-a404-ad9328815f0f",
   "metadata": {},
   "outputs": [
    {
     "name": "stdout",
     "output_type": "stream",
     "text": [
      "Silhouette Score: 0.4\n"
     ]
    }
   ],
   "source": [
    "from sklearn.metrics import silhouette_score\n",
    "\n",
    "score = silhouette_score(scaled, RFM['Cluster'])\n",
    "print(\"Silhouette Score:\", round(score, 3))\n"
   ]
  },
  {
   "cell_type": "code",
   "execution_count": 29,
   "id": "9e25eb97-6ff4-4192-bc2c-a5b992bcdc3a",
   "metadata": {},
   "outputs": [],
   "source": [
    "from sklearn.cluster import KMeans\n",
    "import matplotlib.pyplot as plt\n",
    "\n",
    "sse = []\n",
    "\n",
    "K = range(2, 11)\n",
    "\n",
    "for k in K:\n",
    "    kmeans = KMeans(n_clusters=k, random_state=42)\n",
    "    labels = kmeans.fit_predict(scaled)# Elbow Method \n",
    "    sse.append(kmeans.inertia_)"
   ]
  },
  {
   "cell_type": "code",
   "execution_count": 30,
   "id": "53de4fd2-1b2d-417b-a1d2-fff58677ad8a",
   "metadata": {},
   "outputs": [
    {
     "data": {
      "text/plain": [
       "Text(0, 0.5, 'SSE')"
      ]
     },
     "execution_count": 30,
     "metadata": {},
     "output_type": "execute_result"
    },
    {
     "data": {
      "image/png": "[encoded data removed]",
      "text/plain": [
       "<Figure size 640x480 with 1 Axes>"
      ]
     },
     "metadata": {},
     "output_type": "display_data"
    }
   ],
   "source": [
    "\n",
    "plt.subplot(1,2,1)\n",
    "plt.plot(K, sse, 'bo-')\n",
    "plt.title(\"Elbow Method - SSE\")\n",
    "plt.xlabel(\"Number of Clusters\")\n",
    "plt.ylabel(\"SSE\")"
   ]
  },
  {
   "cell_type": "code",
   "execution_count": 32,
   "id": "dcf7c371-e335-44f3-b1b9-29b8811dc5ae",
   "metadata": {},
   "outputs": [],
   "source": [
    "#improvised clustering \n",
    "kmeans = KMeans(n_clusters=6, random_state=42)\n",
    "RFM['Cluster'] = kmeans.fit_predict(scaled)\n"
   ]
  },
  {
   "cell_type": "code",
   "execution_count": 34,
   "id": "ce09588b-c538-4418-ab55-e35f8aeac018",
   "metadata": {},
   "outputs": [
    {
     "data": {
      "text/html": [
       "<div>\n",
       "<style scoped>\n",
       "    .dataframe tbody tr th:only-of-type {\n",
       "        vertical-align: middle;\n",
       "    }\n",
       "\n",
       "    .dataframe tbody tr th {\n",
       "        vertical-align: top;\n",
       "    }\n",
       "\n",
       "    .dataframe thead th {\n",
       "        text-align: right;\n",
       "    }\n",
       "</style>\n",
       "<table border=\"1\" class=\"dataframe\">\n",
       "  <thead>\n",
       "    <tr style=\"text-align: right;\">\n",
       "      <th></th>\n",
       "      <th>Recency</th>\n",
       "      <th>Frequency</th>\n",
       "      <th>Monetary</th>\n",
       "      <th>Num_Customers</th>\n",
       "    </tr>\n",
       "    <tr>\n",
       "      <th>Cluster</th>\n",
       "      <th></th>\n",
       "      <th></th>\n",
       "      <th></th>\n",
       "      <th></th>\n",
       "    </tr>\n",
       "  </thead>\n",
       "  <tbody>\n",
       "    <tr>\n",
       "      <th>0</th>\n",
       "      <td>40.5</td>\n",
       "      <td>103.9</td>\n",
       "      <td>2219.6</td>\n",
       "      <td>1618</td>\n",
       "    </tr>\n",
       "    <tr>\n",
       "      <th>1</th>\n",
       "      <td>243.0</td>\n",
       "      <td>29.3</td>\n",
       "      <td>521.6</td>\n",
       "      <td>540</td>\n",
       "    </tr>\n",
       "    <tr>\n",
       "      <th>2</th>\n",
       "      <td>0.7</td>\n",
       "      <td>4717.8</td>\n",
       "      <td>59437.6</td>\n",
       "      <td>6</td>\n",
       "    </tr>\n",
       "    <tr>\n",
       "      <th>3</th>\n",
       "      <td>40.0</td>\n",
       "      <td>102.4</td>\n",
       "      <td>1926.2</td>\n",
       "      <td>1624</td>\n",
       "    </tr>\n",
       "    <tr>\n",
       "      <th>4</th>\n",
       "      <td>6.7</td>\n",
       "      <td>826.8</td>\n",
       "      <td>190863.5</td>\n",
       "      <td>6</td>\n",
       "    </tr>\n",
       "    <tr>\n",
       "      <th>5</th>\n",
       "      <td>248.7</td>\n",
       "      <td>26.4</td>\n",
       "      <td>750.7</td>\n",
       "      <td>544</td>\n",
       "    </tr>\n",
       "  </tbody>\n",
       "</table>\n",
       "</div>"
      ],
      "text/plain": [
       "         Recency  Frequency  Monetary  Num_Customers\n",
       "Cluster                                             \n",
       "0           40.5      103.9    2219.6           1618\n",
       "1          243.0       29.3     521.6            540\n",
       "2            0.7     4717.8   59437.6              6\n",
       "3           40.0      102.4    1926.2           1624\n",
       "4            6.7      826.8  190863.5              6\n",
       "5          248.7       26.4     750.7            544"
      ]
     },
     "execution_count": 34,
     "metadata": {},
     "output_type": "execute_result"
    }
   ],
   "source": [
    "RFM.groupby('Cluster').agg({\n",
    "    'Recency': 'mean',\n",
    "    'Frequency': 'mean',\n",
    "    'Monetary': 'mean',\n",
    "    'CustomerID': 'count'\n",
    "}).rename(columns={'CustomerID': 'Num_Customers'}).round(1)\n"
   ]
  },
  {
   "cell_type": "code",
   "execution_count": 38,
   "id": "9d56269c-dd05-4bcb-8b96-6983486f94be",
   "metadata": {},
   "outputs": [],
   "source": [
    "RFM.to_csv(\"rfm_clusters.csv\", index=False)\n"
   ]
  },
  {
   "cell_type": "code",
   "execution_count": null,
   "id": "a4c07010-67bd-46f2-827a-832afb20590d",
   "metadata": {},
   "outputs": [],
   "source": []
  }
 ],
 "metadata": {
  "kernelspec": {
   "display_name": "Python 3 (ipykernel)",
   "language": "python",
   "name": "python3"
  },
  "language_info": {
   "codemirror_mode": {
    "name": "ipython",
    "version": 3
   },
   "file_extension": ".py",
   "mimetype": "text/x-python",
   "name": "python",
   "nbconvert_exporter": "python",
   "pygments_lexer": "ipython3",
   "version": "3.13.2"
  }
 },
 "nbformat": 4,
 "nbformat_minor": 5
}
